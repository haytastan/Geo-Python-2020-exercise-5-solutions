{
 "cells": [
  {
   "cell_type": "markdown",
   "metadata": {
    "deletable": false,
    "editable": false,
    "nbgrader": {
     "cell_type": "markdown",
     "checksum": "4a2314f9edae8abd976c37363f693664",
     "grade": false,
     "grade_id": "cell-1e760a9173223eac",
     "locked": true,
     "schema_version": 3,
     "solution": false
    }
   },
   "source": [
    "## Problem 1 - Basic statistics of the data (*4 points*)\n",
    "\n",
    "In this problem your task is to open and explore a NOAA weather data file using Pandas. The data file name is [data/6153237444115dat.csv](data/6153237444115dat.csv). Please perform the tasks below by writing your code into the codeblocks in each section.\n",
    "\n",
    "**Notice**: Closely follow the instructions! For example, you should be sure to use **exactly** the same variable names mentioned in the instructions because your answers will be automatically graded, and the tests that grade your answers rely on following the same formatting or variable naming as in the instructions.\n",
    "\n",
    "**Your score on this problem will be based on following criteria:**\n",
    "\n",
    "- Importing the Pandas module\n",
    "- Reading the data using Pandas into a variable called `data`\n",
    "- Calculating a number of values from the data file used in this problem\n",
    "- Including comments that explain what most lines in the code do\n",
    "- Answering a couple questions at the end of the problem\n",
    "- Uploading your notebook to your GitHub repository for this week's exercise  "
   ]
  },
  {
   "cell_type": "markdown",
   "metadata": {
    "deletable": false,
    "editable": false,
    "nbgrader": {
     "cell_type": "markdown",
     "checksum": "b4e0f12ef4a91017e5d609959e8ac0a2",
     "grade": false,
     "grade_id": "cell-5f1b764c6963516b",
     "locked": true,
     "schema_version": 3,
     "solution": false,
     "task": false
    }
   },
   "source": [
    "### Part 1 (*1 point*)\n",
    "\n",
    "Your first task is to import Pandas and read in the data file.\n",
    "\n",
    "- Import the Pandas module (*0.5 points*)\n",
    "- Read the data into a variable called `data` using Pandas (*0.5 points*)\n",
    "\n",
    "**Important**: When reading the data, you need to tell Pandas that no-data values are specified with varying number of `*` characters. You can do this by specifying a following parameter in the Pandas `read_csv()` function: \n",
    "  \n",
    "`na_values=['*', '**', '***', '****', '*****', '******']`     "
   ]
  },
  {
   "cell_type": "code",
   "execution_count": 8,
   "metadata": {
    "deletable": false,
    "nbgrader": {
     "cell_type": "code",
     "checksum": "62d6866c5db55fee156dbe144b805f62",
     "grade": false,
     "grade_id": "read_csv",
     "locked": false,
     "schema_version": 3,
     "solution": true
    }
   },
   "outputs": [
    {
     "name": "stdout",
     "output_type": "stream",
     "text": [
      "        USAF   WBAN  YR--MODAHRMN    DIR   SPD   GUS   CLG  SKC   L   M  ...  \\\n",
      "0      28450  99999  201705010000  174.0  10.0  14.0   NaN  NaN NaN NaN  ...   \n",
      "1      28450  99999  201705010020  180.0  10.0   NaN   4.0  NaN NaN NaN  ...   \n",
      "2      28450  99999  201705010050  190.0  10.0   NaN   4.0  NaN NaN NaN  ...   \n",
      "3      28450  99999  201705010100  188.0  12.0  16.0   NaN  NaN NaN NaN  ...   \n",
      "4      28450  99999  201705010120  200.0  13.0   NaN   2.0  OBS NaN NaN  ...   \n",
      "...      ...    ...           ...    ...   ...   ...   ...  ...  ..  ..  ...   \n",
      "11689  29980  99999  201708311900  144.0  12.0  20.0  50.0  BKN NaN NaN  ...   \n",
      "11690  29980  99999  201708312000  137.0  14.0  20.0  40.0  BKN NaN NaN  ...   \n",
      "11691  29980  99999  201708312100  160.0  13.0   NaN   NaN  BKN NaN NaN  ...   \n",
      "11692  29980  99999  201708312200  170.0  12.0  21.0  28.0  OVC NaN NaN  ...   \n",
      "11693  29980  99999  201708312300  192.0  13.0  21.0  19.0  BKN NaN NaN  ...   \n",
      "\n",
      "          SLP    ALT     STP  MAX  MIN  PCP01  PCP06  PCP24  PCPXX    SD  \n",
      "0      1009.2    NaN   984.1  NaN  NaN    NaN    NaN    NaN    NaN  35.0  \n",
      "1         NaN  29.74     NaN  NaN  NaN    NaN    NaN    NaN    NaN   NaN  \n",
      "2         NaN  29.74     NaN  NaN  NaN    NaN    NaN    NaN    NaN   NaN  \n",
      "3      1009.1    NaN   984.0  NaN  NaN    NaN    NaN    NaN    NaN  35.0  \n",
      "4         NaN  29.74     NaN  NaN  NaN    NaN    NaN    NaN    NaN   NaN  \n",
      "...       ...    ...     ...  ...  ...    ...    ...    ...    ...   ...  \n",
      "11689  1007.7    NaN  1004.7  NaN  NaN    NaN    NaN    NaN    NaN   0.0  \n",
      "11690  1006.9    NaN  1003.9  NaN  NaN    NaN    NaN    NaN    NaN   0.0  \n",
      "11691  1006.1    NaN  1003.2  NaN  NaN    NaN    NaN    NaN    NaN   NaN  \n",
      "11692  1006.1    NaN  1003.1  NaN  NaN    NaN    NaN    NaN    NaN   0.0  \n",
      "11693  1005.8    NaN  1002.8  NaN  NaN    NaN    NaN    NaN    NaN   0.0  \n",
      "\n",
      "[11694 rows x 33 columns]\n"
     ]
    }
   ],
   "source": [
    "import pandas as pd\n",
    "#https://www.shanelynn.ie/python-pandas-read-csv-load-data-from-csv-files/\n",
    "data = pd.read_csv('./data/6153237444115dat.csv', na_values=['*', '**', '***', '****', '*****', '******'])\n",
    "print(data)"
   ]
  },
  {
   "cell_type": "markdown",
   "metadata": {},
   "source": [
    "Run these tests to check that everything is set up correctly:"
   ]
  },
  {
   "cell_type": "code",
   "execution_count": 6,
   "metadata": {
    "deletable": false,
    "editable": false,
    "nbgrader": {
     "cell_type": "code",
     "checksum": "9b645005f58192a384071f20ab0abc9c",
     "grade": true,
     "grade_id": "problem_1_read_csv_test1",
     "locked": true,
     "points": 0.5,
     "schema_version": 3,
     "solution": false
    }
   },
   "outputs": [],
   "source": [
    "from nose.tools import ok_, assert_equal\n",
    "import inspect\n",
    "import sys\n",
    "\n",
    "# Check that pandas module is imported\n",
    "ok_('pandas' in sys.modules)"
   ]
  },
  {
   "cell_type": "code",
   "execution_count": 9,
   "metadata": {},
   "outputs": [
    {
     "name": "stdout",
     "output_type": "stream",
     "text": [
      "Pandas module is imported\n"
     ]
    }
   ],
   "source": [
    "from nose.tools import ok_, assert_equal\n",
    "import inspect\n",
    "import sys\n",
    "\n",
    "# Check that pandas module is imported\n",
    "if ok_('pandas' in sys.modules):\n",
    "    print('Pandas module is not imported')\n",
    "else:\n",
    "    print('Pandas module is imported')"
   ]
  },
  {
   "cell_type": "code",
   "execution_count": 7,
   "metadata": {
    "deletable": false,
    "editable": false,
    "nbgrader": {
     "cell_type": "code",
     "checksum": "86b6dabf4c3c622272dbf171086276c5",
     "grade": true,
     "grade_id": "problem_1_read_csv_test2",
     "locked": true,
     "points": 0.5,
     "schema_version": 3,
     "solution": false
    }
   },
   "outputs": [],
   "source": [
    "# Check that the variable data exists:\n",
    "ok_('data' in locals())"
   ]
  },
  {
   "cell_type": "code",
   "execution_count": 10,
   "metadata": {},
   "outputs": [
    {
     "name": "stdout",
     "output_type": "stream",
     "text": [
      "the variable data exists\n"
     ]
    }
   ],
   "source": [
    "# Check that the variable data exists:\n",
    "if ok_('data' in locals()):\n",
    "    print('the variable data does not exist')\n",
    "else:\n",
    "    print('the variable data exists')"
   ]
  },
  {
   "cell_type": "code",
   "execution_count": 22,
   "metadata": {},
   "outputs": [
    {
     "name": "stdout",
     "output_type": "stream",
     "text": [
      "        USAF   WBAN  YR--MODAHRMN    DIR   SPD   GUS   CLG  SKC   L   M  ...  \\\n",
      "0      28450  99999  201705010000  174.0  10.0  14.0   NaN  NaN NaN NaN  ...   \n",
      "1      28450  99999  201705010020  180.0  10.0   NaN   4.0  NaN NaN NaN  ...   \n",
      "2      28450  99999  201705010050  190.0  10.0   NaN   4.0  NaN NaN NaN  ...   \n",
      "3      28450  99999  201705010100  188.0  12.0  16.0   NaN  NaN NaN NaN  ...   \n",
      "4      28450  99999  201705010120  200.0  13.0   NaN   2.0  OBS NaN NaN  ...   \n",
      "...      ...    ...           ...    ...   ...   ...   ...  ...  ..  ..  ...   \n",
      "11689  29980  99999  201708311900  144.0  12.0  20.0  50.0  BKN NaN NaN  ...   \n",
      "11690  29980  99999  201708312000  137.0  14.0  20.0  40.0  BKN NaN NaN  ...   \n",
      "11691  29980  99999  201708312100  160.0  13.0   NaN   NaN  BKN NaN NaN  ...   \n",
      "11692  29980  99999  201708312200  170.0  12.0  21.0  28.0  OVC NaN NaN  ...   \n",
      "11693  29980  99999  201708312300  192.0  13.0  21.0  19.0  BKN NaN NaN  ...   \n",
      "\n",
      "          SLP    ALT     STP  MAX  MIN  PCP01  PCP06  PCP24  PCPXX    SD  \n",
      "0      1009.2    NaN   984.1  NaN  NaN    NaN    NaN    NaN    NaN  35.0  \n",
      "1         NaN  29.74     NaN  NaN  NaN    NaN    NaN    NaN    NaN   NaN  \n",
      "2         NaN  29.74     NaN  NaN  NaN    NaN    NaN    NaN    NaN   NaN  \n",
      "3      1009.1    NaN   984.0  NaN  NaN    NaN    NaN    NaN    NaN  35.0  \n",
      "4         NaN  29.74     NaN  NaN  NaN    NaN    NaN    NaN    NaN   NaN  \n",
      "...       ...    ...     ...  ...  ...    ...    ...    ...    ...   ...  \n",
      "11689  1007.7    NaN  1004.7  NaN  NaN    NaN    NaN    NaN    NaN   0.0  \n",
      "11690  1006.9    NaN  1003.9  NaN  NaN    NaN    NaN    NaN    NaN   0.0  \n",
      "11691  1006.1    NaN  1003.2  NaN  NaN    NaN    NaN    NaN    NaN   NaN  \n",
      "11692  1006.1    NaN  1003.1  NaN  NaN    NaN    NaN    NaN    NaN   0.0  \n",
      "11693  1005.8    NaN  1002.8  NaN  NaN    NaN    NaN    NaN    NaN   0.0  \n",
      "\n",
      "[11694 rows x 33 columns]\n",
      "Pandas module is imported\n",
      "the variable data exists\n"
     ]
    }
   ],
   "source": [
    "run Exercise-5-solution-1-part-1.py"
   ]
  },
  {
   "cell_type": "markdown",
   "metadata": {
    "deletable": false,
    "editable": false,
    "nbgrader": {
     "cell_type": "markdown",
     "checksum": "defffd802fa22ee93bd793e898a03b27",
     "grade": false,
     "grade_id": "cell-52993769979e9829",
     "locked": true,
     "schema_version": 3,
     "solution": false,
     "task": false
    }
   },
   "source": [
    "### Part 2 (*1.5 points*)   \n",
    "\n",
    "In the cell below, fill in the variables values to print answers to these questions:\n",
    "\n",
    "- How many rows is there in the data (variable `rows`)?\n",
    "- What are the column names (variable `column_names`)?\n",
    "- What are the datatypes of the columns (variable `column_datatypes`)?"
   ]
  },
  {
   "cell_type": "code",
   "execution_count": 18,
   "metadata": {
    "deletable": false,
    "nbgrader": {
     "cell_type": "code",
     "checksum": "213709b7d0e21a1561a195a2e4199d02",
     "grade": false,
     "grade_id": "cell-9cc882c07ce1e9c0",
     "locked": false,
     "schema_version": 3,
     "solution": true,
     "task": false
    }
   },
   "outputs": [
    {
     "name": "stdout",
     "output_type": "stream",
     "text": [
      "        USAF   WBAN  YR--MODAHRMN    DIR   SPD   GUS   CLG  SKC   L   M  ...  \\\n",
      "0      28450  99999  201705010000  174.0  10.0  14.0   NaN  NaN NaN NaN  ...   \n",
      "1      28450  99999  201705010020  180.0  10.0   NaN   4.0  NaN NaN NaN  ...   \n",
      "2      28450  99999  201705010050  190.0  10.0   NaN   4.0  NaN NaN NaN  ...   \n",
      "3      28450  99999  201705010100  188.0  12.0  16.0   NaN  NaN NaN NaN  ...   \n",
      "4      28450  99999  201705010120  200.0  13.0   NaN   2.0  OBS NaN NaN  ...   \n",
      "...      ...    ...           ...    ...   ...   ...   ...  ...  ..  ..  ...   \n",
      "11689  29980  99999  201708311900  144.0  12.0  20.0  50.0  BKN NaN NaN  ...   \n",
      "11690  29980  99999  201708312000  137.0  14.0  20.0  40.0  BKN NaN NaN  ...   \n",
      "11691  29980  99999  201708312100  160.0  13.0   NaN   NaN  BKN NaN NaN  ...   \n",
      "11692  29980  99999  201708312200  170.0  12.0  21.0  28.0  OVC NaN NaN  ...   \n",
      "11693  29980  99999  201708312300  192.0  13.0  21.0  19.0  BKN NaN NaN  ...   \n",
      "\n",
      "          SLP    ALT     STP  MAX  MIN  PCP01  PCP06  PCP24  PCPXX    SD  \n",
      "0      1009.2    NaN   984.1  NaN  NaN    NaN    NaN    NaN    NaN  35.0  \n",
      "1         NaN  29.74     NaN  NaN  NaN    NaN    NaN    NaN    NaN   NaN  \n",
      "2         NaN  29.74     NaN  NaN  NaN    NaN    NaN    NaN    NaN   NaN  \n",
      "3      1009.1    NaN   984.0  NaN  NaN    NaN    NaN    NaN    NaN  35.0  \n",
      "4         NaN  29.74     NaN  NaN  NaN    NaN    NaN    NaN    NaN   NaN  \n",
      "...       ...    ...     ...  ...  ...    ...    ...    ...    ...   ...  \n",
      "11689  1007.7    NaN  1004.7  NaN  NaN    NaN    NaN    NaN    NaN   0.0  \n",
      "11690  1006.9    NaN  1003.9  NaN  NaN    NaN    NaN    NaN    NaN   0.0  \n",
      "11691  1006.1    NaN  1003.2  NaN  NaN    NaN    NaN    NaN    NaN   NaN  \n",
      "11692  1006.1    NaN  1003.1  NaN  NaN    NaN    NaN    NaN    NaN   0.0  \n",
      "11693  1005.8    NaN  1002.8  NaN  NaN    NaN    NaN    NaN    NaN   0.0  \n",
      "\n",
      "[11694 rows x 33 columns]\n",
      "['USAF', 'WBAN', 'YR--MODAHRMN', 'DIR', 'SPD', 'GUS', 'CLG', 'SKC', 'L', 'M', 'H', 'VSB', 'MW', 'MW.1', 'MW.2', 'MW.3', 'AW', 'AW.1', 'AW.2', 'AW.3', 'W', 'TEMP', 'DEWP', 'SLP', 'ALT', 'STP', 'MAX', 'MIN', 'PCP01', 'PCP06', 'PCP24', 'PCPXX', 'SD']\n",
      "[dtype('int64'), dtype('int64'), dtype('int64'), dtype('float64'), dtype('float64'), dtype('float64'), dtype('float64'), dtype('O'), dtype('float64'), dtype('float64'), dtype('float64'), dtype('float64'), dtype('float64'), dtype('float64'), dtype('float64'), dtype('float64'), dtype('float64'), dtype('float64'), dtype('float64'), dtype('float64'), dtype('float64'), dtype('float64'), dtype('float64'), dtype('float64'), dtype('float64'), dtype('float64'), dtype('float64'), dtype('float64'), dtype('float64'), dtype('float64'), dtype('float64'), dtype('float64'), dtype('float64')]\n"
     ]
    }
   ],
   "source": [
    "# Number of rows in the dataframe:\n",
    "df = pd.DataFrame(data)\n",
    "rows = df.shape[0]  # Gives number of rows\n",
    "cols = df.shape[1]  # Gives number of columns\n",
    "print(df)\n",
    "\n",
    "# Column names:\n",
    "# https://www.geeksforgeeks.org/how-to-get-column-names-in-pandas-dataframe/\n",
    "# https://www.geeksforgeeks.org/python-pandas-dataframe/\n",
    "column_names = []\n",
    "for col in df.columns:\n",
    "    column_names.append(col)\n",
    "print(column_names)\n",
    "\n",
    "# Column datatypes:\n",
    "# https://datatofish.com/data-type-pandas-dataframe/\n",
    "column_datatypes = []\n",
    "for col in df.columns:\n",
    "    column_datatypes.append(df[col].dtypes)\n",
    "print(column_datatypes)\n"
   ]
  },
  {
   "cell_type": "code",
   "execution_count": 19,
   "metadata": {
    "deletable": false,
    "editable": false,
    "nbgrader": {
     "cell_type": "code",
     "checksum": "c8340d8411537d93734a91b2400b73e5",
     "grade": true,
     "grade_id": "problem_1_pandas_data_test1",
     "locked": true,
     "points": 0.5,
     "schema_version": 3,
     "solution": false
    }
   },
   "outputs": [
    {
     "name": "stdout",
     "output_type": "stream",
     "text": [
      "There are 11694 rows\n"
     ]
    }
   ],
   "source": [
    "# Print the number of rows in the dataframe:\n",
    "print(\"There are \" + str(rows) + \" rows\")\n"
   ]
  },
  {
   "cell_type": "code",
   "execution_count": 20,
   "metadata": {
    "deletable": false,
    "editable": false,
    "nbgrader": {
     "cell_type": "code",
     "checksum": "73c6b22531a1c713ff25d0914a58b81b",
     "grade": true,
     "grade_id": "problem_1_pandas_data_test2",
     "locked": true,
     "points": 0.5,
     "schema_version": 3,
     "solution": false
    }
   },
   "outputs": [
    {
     "name": "stdout",
     "output_type": "stream",
     "text": [
      "The columns are: \n",
      " ['USAF', 'WBAN', 'YR--MODAHRMN', 'DIR', 'SPD', 'GUS', 'CLG', 'SKC', 'L', 'M', 'H', 'VSB', 'MW', 'MW.1', 'MW.2', 'MW.3', 'AW', 'AW.1', 'AW.2', 'AW.3', 'W', 'TEMP', 'DEWP', 'SLP', 'ALT', 'STP', 'MAX', 'MIN', 'PCP01', 'PCP06', 'PCP24', 'PCPXX', 'SD']\n"
     ]
    }
   ],
   "source": [
    "# Print the column names:\n",
    "print(\"The columns are: \\n\", column_names)\n",
    "\n"
   ]
  },
  {
   "cell_type": "code",
   "execution_count": 21,
   "metadata": {
    "deletable": false,
    "editable": false,
    "nbgrader": {
     "cell_type": "code",
     "checksum": "f3701bf2d8099f1ec7da117a61f68bf2",
     "grade": true,
     "grade_id": "problem_1_pandas_data_test3",
     "locked": true,
     "points": 0.5,
     "schema_version": 3,
     "solution": false
    }
   },
   "outputs": [
    {
     "name": "stdout",
     "output_type": "stream",
     "text": [
      "The column types are: \n",
      " [dtype('int64'), dtype('int64'), dtype('int64'), dtype('float64'), dtype('float64'), dtype('float64'), dtype('float64'), dtype('O'), dtype('float64'), dtype('float64'), dtype('float64'), dtype('float64'), dtype('float64'), dtype('float64'), dtype('float64'), dtype('float64'), dtype('float64'), dtype('float64'), dtype('float64'), dtype('float64'), dtype('float64'), dtype('float64'), dtype('float64'), dtype('float64'), dtype('float64'), dtype('float64'), dtype('float64'), dtype('float64'), dtype('float64'), dtype('float64'), dtype('float64'), dtype('float64'), dtype('float64')]\n"
     ]
    }
   ],
   "source": [
    "# Print the column datatypes:\n",
    "print(\"The column types are: \\n\", column_datatypes)\n",
    "\n"
   ]
  },
  {
   "cell_type": "code",
   "execution_count": null,
   "metadata": {},
   "outputs": [],
   "source": [
    "# Print the column datatypes:\n",
    "print(\"The column types are: \\n\", column_datatypes)"
   ]
  },
  {
   "cell_type": "code",
   "execution_count": 27,
   "metadata": {},
   "outputs": [
    {
     "name": "stdout",
     "output_type": "stream",
     "text": [
      "There are 11694 rows\n",
      "The columns are: \n",
      " ['USAF', 'WBAN', 'YR--MODAHRMN', 'DIR', 'SPD', 'GUS', 'CLG', 'SKC', 'L', 'M', 'H', 'VSB', 'MW', 'MW.1', 'MW.2', 'MW.3', 'AW', 'AW.1', 'AW.2', 'AW.3', 'W', 'TEMP', 'DEWP', 'SLP', 'ALT', 'STP', 'MAX', 'MIN', 'PCP01', 'PCP06', 'PCP24', 'PCPXX', 'SD']\n",
      "The column types are: \n",
      " [dtype('int64'), dtype('int64'), dtype('int64'), dtype('float64'), dtype('float64'), dtype('float64'), dtype('float64'), dtype('O'), dtype('float64'), dtype('float64'), dtype('float64'), dtype('float64'), dtype('float64'), dtype('float64'), dtype('float64'), dtype('float64'), dtype('float64'), dtype('float64'), dtype('float64'), dtype('float64'), dtype('float64'), dtype('float64'), dtype('float64'), dtype('float64'), dtype('float64'), dtype('float64'), dtype('float64'), dtype('float64'), dtype('float64'), dtype('float64'), dtype('float64'), dtype('float64'), dtype('float64')]\n"
     ]
    }
   ],
   "source": [
    "run Exercise-5-solution-1-part-2.py"
   ]
  },
  {
   "cell_type": "markdown",
   "metadata": {
    "deletable": false,
    "editable": false,
    "nbgrader": {
     "cell_type": "markdown",
     "checksum": "e19b85c6fbdd433d609f81029c6e3185",
     "grade": false,
     "grade_id": "cell-084bfa64c8d7ad54",
     "locked": true,
     "schema_version": 3,
     "solution": false,
     "task": false
    }
   },
   "source": [
    "### Part 3 (*1.5 points*)   \n",
    "\n",
    "In the cell below, fill in the variables values to print answers to these questions:\n",
    "\n",
    "- What is the mean Fahrenheit temperature in the data (`temp_mean` variable calculated from the `TEMP` column)?\n",
    "- What is the standard deviation of the Maximum temperature (`temp_max_std` variable calculated from the `MAX` column)?\n",
    "- How many unique stations exists in the data (`station_count` variable calcualted from the `USAF` column)?"
   ]
  },
  {
   "cell_type": "code",
   "execution_count": null,
   "metadata": {
    "deletable": false,
    "nbgrader": {
     "cell_type": "code",
     "checksum": "2d34ea6a4078022adc8d4de5a765dc9f",
     "grade": false,
     "grade_id": "basic_statistics",
     "locked": false,
     "schema_version": 3,
     "solution": true
    }
   },
   "outputs": [],
   "source": [
    "# Calculate mean temperature\n",
    "temp_mean = None\n",
    "\n",
    "# Calculate standard deviaton of the maximum temperature:\n",
    "temp_max_std = None\n",
    "\n",
    "#Calculate number of unique stations:\n",
    "station_count = None\n",
    "\n",
    "# REPLACE THE ERROR BELOW WITH YOUR OWN CODE\n",
    "raise NotImplementedError()"
   ]
  },
  {
   "cell_type": "code",
   "execution_count": null,
   "metadata": {
    "deletable": false,
    "editable": false,
    "nbgrader": {
     "cell_type": "code",
     "checksum": "27e5ab9d48f2eb6568f06e0078af8a52",
     "grade": true,
     "grade_id": "problem_1_basic_statistics_test1",
     "locked": true,
     "points": 0.5,
     "schema_version": 3,
     "solution": false
    }
   },
   "outputs": [],
   "source": [
    "# Check mean temperature value\n",
    "print(\"The mean temperature in Fahrenheit is \", round(temp_mean,1))\n"
   ]
  },
  {
   "cell_type": "code",
   "execution_count": null,
   "metadata": {
    "deletable": false,
    "editable": false,
    "nbgrader": {
     "cell_type": "code",
     "checksum": "1877be1efea5cb42694deb289afca8d7",
     "grade": true,
     "grade_id": "problem_1_basic_statistics_test2",
     "locked": true,
     "points": 0.5,
     "schema_version": 3,
     "solution": false
    }
   },
   "outputs": [],
   "source": [
    "# Check standard deviation value\n",
    "print(\"The standard deviation of maximum temperature is \", round(temp_max_std, 1))\n"
   ]
  },
  {
   "cell_type": "code",
   "execution_count": null,
   "metadata": {
    "deletable": false,
    "editable": false,
    "nbgrader": {
     "cell_type": "code",
     "checksum": "b91549597bf385dbccf38b831b026005",
     "grade": true,
     "grade_id": "problem_1_basic_statistics_test",
     "locked": true,
     "points": 0.5,
     "schema_version": 3,
     "solution": false
    }
   },
   "outputs": [],
   "source": [
    "# Check number of stations value\n",
    "print(\"The number of unique stations is \", station_count)\n"
   ]
  },
  {
   "cell_type": "markdown",
   "metadata": {
    "deletable": false,
    "editable": false,
    "nbgrader": {
     "cell_type": "markdown",
     "checksum": "f61f138b29577b27502bd8bb0917811e",
     "grade": false,
     "grade_id": "questions",
     "locked": true,
     "schema_version": 3,
     "solution": false
    }
   },
   "source": [
    "### Problem 1 summary\n",
    "\n",
    "In the [Exercise 5 summary notebook](Exercise-5-summary.ipynb) you can find a few additional points to consider and one final question for Problem 1. Please answer that question in [that notebook](Exercise-5-summary.ipynb)."
   ]
  },
  {
   "cell_type": "markdown",
   "metadata": {
    "deletable": false,
    "editable": false,
    "nbgrader": {
     "cell_type": "markdown",
     "checksum": "d83d3441649eb0a83657cbf9b30a0825",
     "grade": false,
     "grade_id": "cell-37aec3470db70bf0",
     "locked": true,
     "schema_version": 3,
     "solution": false,
     "task": false
    }
   },
   "source": [
    "### On to Problem 2\n",
    "\n",
    "Now you can continue to [Problem 2: Data manipulation and selection](Exercise-5-problem-2.ipynb)"
   ]
  }
 ],
 "metadata": {
  "anaconda-cloud": {},
  "kernelspec": {
   "display_name": "Python 3 (ipykernel)",
   "language": "python",
   "name": "python3"
  },
  "language_info": {
   "codemirror_mode": {
    "name": "ipython",
    "version": 3
   },
   "file_extension": ".py",
   "mimetype": "text/x-python",
   "name": "python",
   "nbconvert_exporter": "python",
   "pygments_lexer": "ipython3",
   "version": "3.9.5"
  }
 },
 "nbformat": 4,
 "nbformat_minor": 4
}
